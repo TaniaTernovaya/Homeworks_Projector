{
 "cells": [
  {
   "attachments": {},
   "cell_type": "markdown",
   "metadata": {},
   "source": [
    "Write a decorator that ensures a function is only called by users with a specific role. Each function should have a user_type with a string type in kwargs."
   ]
  },
  {
   "cell_type": "code",
   "execution_count": 2,
   "metadata": {},
   "outputs": [
    {
     "name": "stdout",
     "output_type": "stream",
     "text": [
      "Welcome\n"
     ]
    }
   ],
   "source": [
    "def is_admin(function):\n",
    "    def inner(*args, **kwargs):\n",
    "        if kwargs[\"user_type\"] == \"admin\":\n",
    "            return function(*args, **kwargs)\n",
    "        else:\n",
    "            raise PermissionError(\"User is not authenticated\")\n",
    "\n",
    "    return inner\n",
    "\n",
    "\n",
    "@is_admin\n",
    "def show_customer_receipt(user_type: str):\n",
    "    print(\"Welcome\")\n",
    "\n",
    "\n",
    "show_customer_receipt(user_type=\"admin\")"
   ]
  },
  {
   "attachments": {},
   "cell_type": "markdown",
   "metadata": {},
   "source": [
    "Write a decorator that wraps a function in a try-except block and prints an error if an error has happened."
   ]
  },
  {
   "cell_type": "code",
   "execution_count": 4,
   "metadata": {},
   "outputs": [
    {
     "name": "stdout",
     "output_type": "stream",
     "text": [
      "bar\n"
     ]
    }
   ],
   "source": [
    "def catch_errors(function):\n",
    "    def inner(*args, **kwargs):\n",
    "        try:\n",
    "            return function(*args, **kwargs)\n",
    "        except Exception as err:\n",
    "            print(\"Found 1 error during execution of your function:\", err)\n",
    "\n",
    "    return inner\n",
    "\n",
    "\n",
    "@catch_errors\n",
    "def some_function_with_risky_operation(data):\n",
    "    print(data[\"key\"])\n",
    "\n",
    "\n",
    "some_function_with_risky_operation({'key': 'bar'})"
   ]
  },
  {
   "attachments": {},
   "cell_type": "markdown",
   "metadata": {},
   "source": [
    "Create a decorator that will check types. It should take a function with arguments and validate inputs with annotations. It should work for all possible functions. Don’t forget to check the return type as well."
   ]
  },
  {
   "cell_type": "code",
   "execution_count": 20,
   "metadata": {},
   "outputs": [
    {
     "data": {
      "text/plain": [
       "3"
      ]
     },
     "execution_count": 20,
     "metadata": {},
     "output_type": "execute_result"
    }
   ],
   "source": [
    "def check_types(function):\n",
    "    def inner(*args, **kwargs):\n",
    "        for i,element in enumerate(args):\n",
    "            if isinstance(args[i], int):\n",
    "                return function(*args)\n",
    "            raise TypeError\n",
    "\n",
    "    return inner\n",
    "\n",
    "\n",
    "@check_types\n",
    "def add(a: int, b: int) -> int:\n",
    "    return a + b\n",
    "\n",
    "add(1, 2)"
   ]
  },
  {
   "attachments": {},
   "cell_type": "markdown",
   "metadata": {},
   "source": [
    "Create a function that caches the result of a function, so that if it is called with the same argument multiple times, it returns the cached result first instead of re-executing the function."
   ]
  },
  {
   "cell_type": "code",
   "execution_count": 8,
   "metadata": {},
   "outputs": [
    {
     "name": "stdout",
     "output_type": "stream",
     "text": [
      "89\n"
     ]
    }
   ],
   "source": [
    "def cache_function(function):\n",
    "    cache = {}\n",
    "\n",
    "    def inner(*args):\n",
    "        if args in cache:\n",
    "            return cache[args]\n",
    "        result = function(*args)\n",
    "        cache[args] = result\n",
    "        return result\n",
    "\n",
    "    return inner\n",
    "\n",
    "\n",
    "@cache_function\n",
    "def fibonacci_of(n):\n",
    "    if n in {0, 1}:\n",
    "        return n\n",
    "    return fibonacci_of(n - 1) + fibonacci_of(n - 2)\n",
    "\n",
    "\n",
    "print(fibonacci_of(11))"
   ]
  },
  {
   "attachments": {},
   "cell_type": "markdown",
   "metadata": {},
   "source": [
    "Write a decorator that adds a rate-limiter to a function, so that it can only be called a certain amount of times per minute."
   ]
  },
  {
   "cell_type": "code",
   "execution_count": null,
   "metadata": {},
   "outputs": [],
   "source": [
    "import time\n",
    "\n",
    "\n",
    "def decorator(number):\n",
    "    caller_per_minute = 0\n",
    "    last_call_time = 0\n",
    "\n",
    "    def timer(func):\n",
    "        def wrapper(*args, **kwargs):\n",
    "            nonlocal caller_per_minute, last_call_time\n",
    "            if time.time() - last_call_time > 3:\n",
    "                caller_per_minute = 0\n",
    "            if caller_per_minute < number:\n",
    "                caller_per_minute += 1\n",
    "                last_call_time = time.time()\n",
    "                return func(*args, **kwargs)\n",
    "\n",
    "        return wrapper\n",
    "\n",
    "    return timer\n",
    "\n",
    "\n",
    "@decorator(number=3)\n",
    "def add(a, b):\n",
    "    return a + b"
   ]
  }
 ],
 "metadata": {
  "kernelspec": {
   "display_name": "Python 3",
   "language": "python",
   "name": "python3"
  },
  "language_info": {
   "codemirror_mode": {
    "name": "ipython",
    "version": 3
   },
   "file_extension": ".py",
   "mimetype": "text/x-python",
   "name": "python",
   "nbconvert_exporter": "python",
   "pygments_lexer": "ipython3",
   "version": "3.11.2"
  },
  "orig_nbformat": 4
 },
 "nbformat": 4,
 "nbformat_minor": 2
}
