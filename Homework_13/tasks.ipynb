{
 "cells": [
  {
   "attachments": {},
   "cell_type": "markdown",
   "metadata": {},
   "source": [
    "1. Create add method to add two countries together. This method should create another country object with the name of the two countries combined and the population of the two countries added together.\n",
    "bosnia = Country('Bosnia', 10_000_000)\n",
    "herzegovina = Country('Herzegovina', 5_000_000)\n",
    "\n",
    "bosnia_herzegovina = bosnia.add(herzegovina)\n",
    "bosnia_herzegovina.population -> 15_000_000\n",
    "bosnia_herzegovina.name -> 'Bosnia Herzegovina'"
   ]
  },
  {
   "cell_type": "code",
   "execution_count": 40,
   "metadata": {},
   "outputs": [
    {
     "name": "stdout",
     "output_type": "stream",
     "text": [
      "Bosnia Herzegovina\n",
      "15000000\n"
     ]
    }
   ],
   "source": [
    "class Country:\n",
    "    def __init__(self,name: str, population: int):\n",
    "        self.name = name\n",
    "        self.population = population\n",
    "    def add(self,second_country):\n",
    "        result = Country(f'{self.name} {second_country.name}',self.population + second_country.population)\n",
    "        return result\n",
    "    \n",
    "bosnia = Country('Bosnia', 10_000_000)\n",
    "herzegovina = Country('Herzegovina', 5_000_000)\n",
    "bosnia_herzegovina = bosnia.add(herzegovina)\n",
    "print(bosnia_herzegovina.name)\n",
    "print(bosnia_herzegovina.population)"
   ]
  },
  {
   "attachments": {},
   "cell_type": "markdown",
   "metadata": {},
   "source": [
    "2. Implement previous method with magic method\n",
    "bosnia = Country('Bosnia', 10_000_000)\n",
    "herzegovina = Country('Herzegovina', 5_000_000)\n",
    "\n",
    "bosnia_herzegovina = bosnia + herzegovina\n",
    "bosnia_herzegovina.population -> 15_000_000\n",
    "bosnia_herzegovina.name -> 'Bosnia Herzegovina'"
   ]
  },
  {
   "cell_type": "code",
   "execution_count": 39,
   "metadata": {},
   "outputs": [
    {
     "name": "stdout",
     "output_type": "stream",
     "text": [
      "Bosnia Herzegovina\n",
      "15000000\n"
     ]
    }
   ],
   "source": [
    "class Country:\n",
    "    def __init__(self,name: str, population: int):\n",
    "        self.name = name\n",
    "        self.population = population\n",
    "    def __add__(self,second_country):\n",
    "        result = Country(f'{self.name} {second_country.name}',self.population + second_country.population)\n",
    "        return result\n",
    "    \n",
    "bosnia = Country('Bosnia', 10_000_000)\n",
    "herzegovina = Country('Herzegovina', 5_000_000)\n",
    "\n",
    "bosnia_herzegovina = bosnia + herzegovina\n",
    "print(bosnia_herzegovina.name)\n",
    "print(bosnia_herzegovina.population)"
   ]
  },
  {
   "attachments": {},
   "cell_type": "markdown",
   "metadata": {},
   "source": [
    "3. Create a Car class with the following attributes: brand, model, year, and speed. The Car class should have the following methods: accelerate and brake. The accelerate method should increase the speed by 5, and the brake method should decrease the speed by 5."
   ]
  },
  {
   "cell_type": "code",
   "execution_count": 58,
   "metadata": {},
   "outputs": [
    {
     "name": "stdout",
     "output_type": "stream",
     "text": [
      "None\n",
      "75\n",
      "None\n",
      "70\n",
      "None\n",
      "None\n",
      "None\n"
     ]
    }
   ],
   "source": [
    "class Car:\n",
    "    def __init__(self,brand,model,year,speed):\n",
    "        self.brand = brand\n",
    "        self.model = model\n",
    "        self.year = year\n",
    "        self.speed = speed\n",
    "    def accelerate(self):\n",
    "        self.speed = self.speed - 5\n",
    "    def brake(self):\n",
    "        self.speed = self.speed - 5\n",
    "\n",
    "car1 = Car('bmw','x5',2019,80)\n",
    "print(car1.brake())\n",
    "print(car1.speed)\n",
    "print(car1.brake())\n",
    "print(car1.speed)\n",
    "print(car1.brake())\n",
    "print(car1.brake())\n",
    "print(car1.brake())"
   ]
  },
  {
   "attachments": {},
   "cell_type": "markdown",
   "metadata": {},
   "source": [
    "4. Create a Robot class with the following attributes: orientation (left, right, up, down), position_x, position_y. The Robot class should have the following methods: move, turn, and display_position. The move method should take a number of steps and move the robot in the direction it is currently facing. The turn method should take a direction (left or right) and turn the robot in that direction. The display_position method should print the current position of the robot."
   ]
  },
  {
   "cell_type": "code",
   "execution_count": 48,
   "metadata": {},
   "outputs": [
    {
     "data": {
      "text/plain": [
       "'Robot at (-1,8) and orientation if <left>'"
      ]
     },
     "execution_count": 48,
     "metadata": {},
     "output_type": "execute_result"
    }
   ],
   "source": [
    "class Robot:\n",
    "    def __init__(self,orientation,position_x,position_y):\n",
    "        self.orientation = orientation\n",
    "        self.x = position_x\n",
    "        self.y = position_y\n",
    "    def turn(self, direction):\n",
    "        if direction == 'left':\n",
    "            if self.orientation == 'up':\n",
    "                self.orientation = 'left'\n",
    "            elif self.orientation == 'left':\n",
    "                self.orientation = 'down'\n",
    "            elif self.orientation == 'down':\n",
    "                self.orientation = 'right'\n",
    "            else:\n",
    "                self.orientation = 'up'\n",
    "        elif direction == 'right':\n",
    "            if self.orientation == 'up':\n",
    "                self.orientation = 'right'\n",
    "            elif self.orientation == 'right':\n",
    "                self.orientation = 'down'\n",
    "            elif self.orientation == 'down':\n",
    "                self.orientation = 'left'\n",
    "            else:\n",
    "                self.orientation = 'up'\n",
    "        return self\n",
    "    def move(self, steps):\n",
    "        if self.orientation == 'up':\n",
    "            self.y = self.y + steps\n",
    "        elif self.orientation == 'down':\n",
    "            self.y = self.y - steps\n",
    "        elif self.orientation == 'right':\n",
    "            self.x = self.x + steps\n",
    "        elif self.orientation == 'left':\n",
    "            self.x = self.x - steps\n",
    "    def display_position(self):\n",
    "        return f'Robot at ({self.x},{self.y}) and orientation if <{self.orientation}>'\n",
    "\n",
    "robot = Robot('up',0,0)\n",
    "robot.orientation = 'up'\n",
    "robot.move(3)\n",
    "robot.display_position()\n",
    "robot.move(5)\n",
    "robot.display_position()\n",
    "robot.turn('right')\n",
    "robot.display_position()\n",
    "robot.move(1)\n",
    "robot.display_position()\n",
    "robot.turn('left')\n",
    "robot.turn('left')\n",
    "robot.move(2)\n",
    "robot.display_position()"
   ]
  }
 ],
 "metadata": {
  "kernelspec": {
   "display_name": "Python 3",
   "language": "python",
   "name": "python3"
  },
  "language_info": {
   "codemirror_mode": {
    "name": "ipython",
    "version": 3
   },
   "file_extension": ".py",
   "mimetype": "text/x-python",
   "name": "python",
   "nbconvert_exporter": "python",
   "pygments_lexer": "ipython3",
   "version": "3.9.13"
  },
  "orig_nbformat": 4
 },
 "nbformat": 4,
 "nbformat_minor": 2
}
