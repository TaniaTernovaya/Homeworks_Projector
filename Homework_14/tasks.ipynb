{
 "cells": [
  {
   "attachments": {},
   "cell_type": "markdown",
   "metadata": {},
   "source": [
    "Create a class Product with properties name, price, and quantity. Create a child class Book that inherits from Product and adds a property author and a method called read that prints information about the book."
   ]
  },
  {
   "cell_type": "code",
   "execution_count": 14,
   "metadata": {},
   "outputs": [
    {
     "name": "stdout",
     "output_type": "stream",
     "text": [
      "This is a book: Author = F. Scott Fitzgerald, Name = F. Scott Fitzgerald. This book costs 15.99 dollars and we have 10 copies of it\n"
     ]
    }
   ],
   "source": [
    "class Product:\n",
    "    def __init__(self,name,price,quantity):\n",
    "        self.name = name\n",
    "        self.price = price\n",
    "        self.quantity = quantity\n",
    "\n",
    "class Book(Product):\n",
    "    def __init__(self,name,price,quantity,author):\n",
    "        super().__init__(name, price, quantity)\n",
    "        self.author = author\n",
    "    def read(self):\n",
    "        print(f'This is a book: Author = {self.author}, Name = {self.author}. This book costs {self.price} dollars and we have {self.quantity} copies of it')\n",
    "\n",
    "book1 = Book('Name',20,25,'Shevchenko')\n",
    "book1.read()"
   ]
  },
  {
   "attachments": {},
   "cell_type": "markdown",
   "metadata": {},
   "source": [
    "Create a class Restaurant with properties name, cuisine, and menu. The menu property should be a dictionary with keys being the dish name and values being the price. Create a child class FastFood that inherits from Restaurant and adds a property drive_thru (a boolean indicating whether the restaurant has a drive-thru or not) and a method called order, which takes in the dish name and quantity and returns the total cost of the order. The method should also update the menu dictionary to subtract the ordered quantity from the available quantity. If the dish is not available or if the requested quantity is greater than the available quantity, the method should return a message indicating that the order cannot be fulfilled. "
   ]
  },
  {
   "cell_type": "code",
   "execution_count": 2,
   "metadata": {},
   "outputs": [
    {
     "name": "stdout",
     "output_type": "stream",
     "text": [
      "25\n",
      "Requested quantity not available\n",
      "Dish not available\n"
     ]
    }
   ],
   "source": [
    "class Restaurant:\n",
    "    def __init__(self,name, cuisine, menu):\n",
    "        self.name = name\n",
    "        self.cuisine = cuisine\n",
    "        self.menu = menu\n",
    "\n",
    "class FastFood(Restaurant):\n",
    "    def __init__(self,name, cuisine, menu,drive_thru):\n",
    "        super().__init__(name, cuisine, menu)\n",
    "        self.drive_thru = drive_thru\n",
    "    def order(self, dish_name, quantity):\n",
    "        if dish_name not in self.menu:\n",
    "            return 'Dish not available'\n",
    "        \n",
    "        available_quantity = self.menu[dish_name]['quantity']\n",
    "        price_per_item = self.menu[dish_name]['price']\n",
    "        \n",
    "        if quantity > available_quantity:\n",
    "            return 'Requested quantity not available'\n",
    "        \n",
    "        total_cost = price_per_item * quantity\n",
    "        self.menu[dish_name]['quantity'] -= quantity\n",
    "        return total_cost\n",
    "    \n",
    "menu =  {\n",
    "    'burger': {'price': 5, 'quantity': 10},\n",
    "    'pizza': {'price': 10, 'quantity': 20},\n",
    "    'drink': {'price': 1, 'quantity': 15}\n",
    "}\n",
    "mc = FastFood('McDonalds', 'Fast Food', menu, True)\n",
    "\n",
    "print(mc.order('burger', 5)) # 25\n",
    "print(mc.order('burger', 15)) # Requested quantity not available\n",
    "print(mc.order('soup', 5)) # Dish not available"
   ]
  }
 ],
 "metadata": {
  "kernelspec": {
   "display_name": "base",
   "language": "python",
   "name": "python3"
  },
  "language_info": {
   "codemirror_mode": {
    "name": "ipython",
    "version": 3
   },
   "file_extension": ".py",
   "mimetype": "text/x-python",
   "name": "python",
   "nbconvert_exporter": "python",
   "pygments_lexer": "ipython3",
   "version": "3.9.13"
  },
  "orig_nbformat": 4
 },
 "nbformat": 4,
 "nbformat_minor": 2
}
